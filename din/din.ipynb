{
 "cells": [
  {
   "cell_type": "code",
   "execution_count": 1,
   "metadata": {},
   "outputs": [],
   "source": [
    "import pickle\n",
    "import pandas as pd\n",
    "import numpy as np\n",
    "from sklearn.metrics import roc_auc_score\n",
    "from collections import OrderedDict\n",
    "from tensorflow.python.keras.layers import Input\n",
    "import tensorflow as tf\n",
    "from utils import padding_process\n",
    "from input import create_embedding_dict,embedding_lookup\n",
    "import feature_columns as fc_lib\n",
    "from tensorflow.python.keras.layers import Embedding\n",
    "from tensorflow.python.keras.layers import LSTM, Lambda, Layer\n",
    "from tensorflow.python.keras.initializers import Zeros, glorot_normal\n",
    "from tensorflow.python.keras.regularizers import l2\n",
    "from collections import defaultdict\n",
    "\n",
    "from model import DNN,AttentionSequencePoolingLayer\n",
    "from utils import activation_layer,concat_func\n",
    "from feature_columns import build_input_features,SparseFeat,VarLenSparseFeat\n",
    "\n",
    "#tf.config.experimental_run_functions_eagerly(True)\n"
   ]
  },
  {
   "cell_type": "markdown",
   "metadata": {},
   "source": [
    "## 读取数据"
   ]
  },
  {
   "cell_type": "code",
   "execution_count": null,
   "metadata": {},
   "outputs": [],
   "source": [
    "## get config\n",
    "train_path=\"data/local_train_splitByUser\"\n",
    "test_path=\"data/local_test_splitByUser\"\n",
    "\n",
    "f=open(\"data/uid_voc.pkl\",\"rb\")\n",
    "uid_dict=pickle.load(f)\n",
    "f=open(\"data/mid_voc.pkl\",\"rb\")\n",
    "mid_dict=pickle.load(f)\n",
    "f=open(\"data/cat_voc.pkl\",\"rb\")\n",
    "cate_dict=pickle.load(f)"
   ]
  },
  {
   "cell_type": "markdown",
   "metadata": {},
   "source": [
    "## 数据处理"
   ]
  },
  {
   "cell_type": "code",
   "execution_count": 14,
   "metadata": {},
   "outputs": [],
   "source": [
    "\n",
    "def get_xy_fd(path):\n",
    "    df=pd.read_csv(path,sep=\"\\t\",header=None).head(300000)\n",
    "    df.columns=['label','uid','item_id','cate_id','seq_item','seq_cate']\n",
    "    df['seq_len']=df['seq_item'].map(lambda t: 10 if len(t.split(\"\\002\"))>=10 else len(t.split(\"\\002\")))\n",
    "    df['seq_item']=df['seq_item'].map(lambda t:  padding_process(t.split(\"\\002\"),maxlen))\n",
    "    df['seq_cate']=df['seq_cate'].map(lambda t: padding_process(t.split(\"\\002\"),maxlen))\n",
    "    \n",
    "    df['uid']=df.uid.map(lambda t: uid_dict.get(t,9999))\n",
    "    df['item_id']=df.item_id.map(lambda t: mid_dict.get(t))\n",
    "    df['cate_id']=df.cate_id.map(lambda t: cate_dict.get(t))\n",
    "    df['seq_item']=df.seq_item.map(lambda t:[mid_dict.get(i) if i!=0 else i for i in t])\n",
    "    df['seq_cate']=df.seq_cate.map(lambda t:[cate_dict.get(i) if i!=0 else i for i in t])\n",
    "    \n",
    "    uid=df.uid.values\n",
    "    iid=df.item_id.values\n",
    "    cid=df.cate_id.values\n",
    "    hist_iid=np.array(df.seq_item.tolist())\n",
    "    hist_cid=np.array(df.seq_cate.tolist())\n",
    "    seq_length=df.seq_len.values\n",
    "  \n",
    "    feature_dict = {'user': uid,  'item_id': iid, 'cate_id': cid,\n",
    "                    'hist_item_id': hist_iid, 'hist_cate_id': hist_cid,\n",
    "                    'seq_length': seq_length}\n",
    "    features = list(build_input_features(feature_columns).keys())\n",
    "    x = {name: feature_dict[name] for name in features}\n",
    "    y = df.label.values\n",
    "    return x, y\n",
    "\n",
    "x_train, y_train = get_xy_fd(train_path)\n",
    "x_test, y_test = get_xy_fd(test_path)\n"
   ]
  },
  {
   "cell_type": "markdown",
   "metadata": {},
   "source": [
    "## 定义输入参数"
   ]
  },
  {
   "cell_type": "code",
   "execution_count": 6,
   "metadata": {},
   "outputs": [
    {
     "data": {
      "text/plain": [
       "[<tf.Tensor 'user_7:0' shape=(None, 1) dtype=float32>,\n",
       " <tf.Tensor 'item_id_7:0' shape=(None, 1) dtype=float32>,\n",
       " <tf.Tensor 'cate_id_7:0' shape=(None, 1) dtype=float32>,\n",
       " <tf.Tensor 'hist_item_id_7:0' shape=(None, 10) dtype=float32>,\n",
       " <tf.Tensor 'seq_length_15:0' shape=(None, 1) dtype=float32>,\n",
       " <tf.Tensor 'hist_cate_id_7:0' shape=(None, 10) dtype=float32>]"
      ]
     },
     "execution_count": 6,
     "metadata": {},
     "output_type": "execute_result"
    }
   ],
   "source": [
    "#定义每个特征的特征空间\n",
    "user_len = 543060\n",
    "item_len = 367983\n",
    "cate_len = 1601\n",
    "#定义序列的长度\n",
    "maxlen=10\n",
    "\n",
    "#定义特征类型\n",
    "feature_columns = [SparseFeat('user', user_len+1, embedding_dim=16), \n",
    "                       SparseFeat('item_id', item_len+3, embedding_dim=16), \n",
    "                       SparseFeat('cate_id', cate_len + 3, embedding_dim=16)]\n",
    "feature_columns += [\n",
    "    VarLenSparseFeat('hist_item_id', item_len + 3, embedding_dim=16, embedding_name='item_id', maxlen=10, length_name=\"seq_length\"),\n",
    "    VarLenSparseFeat('hist_cate_id', cate_len + 3, embedding_dim=16, embedding_name='cate_id', maxlen=10,length_name=\"seq_length\")]\n",
    "\n",
    "#定义特征输入\n",
    "dnn_feature_columns=feature_columns\n",
    "sparse_feature_columns = dnn_feature_columns\n",
    "features = build_input_features(dnn_feature_columns)\n",
    "\n",
    "#定义query和key的columns和类型\n",
    "query_columns=['item_id','cate_id']\n",
    "key_columns=['hist_item_id','hist_cate_id']\n",
    "query_feature_columns = [i for i in dnn_feature_columns if i.name in query_columns]\n",
    "key_feature_columns = [i for i in dnn_feature_columns if i.name in key_columns]\n",
    "\n",
    "#定义模型的输入tensor\n",
    "inputs_list = list(features.values())"
   ]
  },
  {
   "cell_type": "code",
   "execution_count": 25,
   "metadata": {},
   "outputs": [
    {
     "data": {
      "text/plain": [
       "{'user': <tensorflow.python.keras.layers.embeddings.Embedding at 0x167d856a0>,\n",
       " 'item_id': <tensorflow.python.keras.layers.embeddings.Embedding at 0x167d85b38>,\n",
       " 'cate_id': <tensorflow.python.keras.layers.embeddings.Embedding at 0x167d85908>}"
      ]
     },
     "execution_count": 25,
     "metadata": {},
     "output_type": "execute_result"
    }
   ],
   "source": [
    "embedding_dict"
   ]
  },
  {
   "cell_type": "code",
   "execution_count": 27,
   "metadata": {},
   "outputs": [],
   "source": [
    "mbedding_dict = create_embedding_dict(dnn_feature_columns,1024, 1e-6)\n",
    "query_emb_list = embedding_lookup(embedding_dict, features, query_feature_columns, to_list=True)\n",
    "keys_emb_list = embedding_lookup(embedding_dict, features, key_feature_columns,to_list=True)\n",
    "dnn_input_emb_list = embedding_lookup(embedding_dict, features, sparse_feature_columns,1,to_list=True)\n",
    "\n",
    "keys_emb_sum_list = embedding_lookup(embedding_dict, features, key_feature_columns,1,to_list=True)\n",
    "#获取attention得分\n",
    "keys_emb =concat_func(keys_emb_list)\n",
    "deep_input_emb = concat_func(dnn_input_emb_list)\n",
    "query_emb = concat_func(query_emb_list)\n",
    "\n",
    "keys_emb_sum=concat_func(keys_emb_sum_list)"
   ]
  },
  {
   "cell_type": "code",
   "execution_count": 28,
   "metadata": {},
   "outputs": [
    {
     "data": {
      "text/plain": [
       "<tf.Tensor 'concatenate_10/Identity:0' shape=(None, 1, 32) dtype=float32>"
      ]
     },
     "execution_count": 28,
     "metadata": {},
     "output_type": "execute_result"
    }
   ],
   "source": [
    "query_emb"
   ]
  },
  {
   "cell_type": "markdown",
   "metadata": {},
   "source": [
    "## 构建din模型"
   ]
  },
  {
   "cell_type": "code",
   "execution_count": 7,
   "metadata": {},
   "outputs": [],
   "source": [
    "def build_din_model():\n",
    "    embedding_dict = create_embedding_dict(dnn_feature_columns,1024, 1e-6)\n",
    "    query_emb_list = embedding_lookup(embedding_dict, features, query_feature_columns, to_list=True)\n",
    "    keys_emb_list = embedding_lookup(embedding_dict, features, key_feature_columns,to_list=True)\n",
    "    dnn_input_emb_list = embedding_lookup(embedding_dict, features, sparse_feature_columns,1,to_list=True)\n",
    "    \n",
    "    keys_emb_sum_list = embedding_lookup(embedding_dict, features, key_feature_columns,1,to_list=True)\n",
    "    #获取attention得分\n",
    "    keys_emb =concat_func(keys_emb_list)\n",
    "    deep_input_emb = concat_func(dnn_input_emb_list)\n",
    "    query_emb = concat_func(query_emb_list)\n",
    "    \n",
    "    keys_emb_sum=concat_func(keys_emb_sum_list)\n",
    "    \n",
    "    att_hidden_size=(80, 40,1)\n",
    "    att_activation=\"dice\"\n",
    "    att_weight_normalization=False\n",
    "    hist = AttentionSequencePoolingLayer(att_hidden_size, att_activation,\n",
    "                                         weight_normalization=att_weight_normalization, supports_masking=True)([query_emb, keys_emb])\n",
    "    #构造dnn模型\n",
    "    dnn_input=deep_input_emb\n",
    "    print(\"hist-------------\")\n",
    "    print(query_emb)\n",
    "    print(keys_emb)\n",
    "    #deep_input_emb=tf.keras.layers.Concatenate()([deep_input_emb, query_emb*keys_emb_sum,hist])\n",
    "    #deep_input_emb=tf.keras.layers.Concatenate()([deep_input_emb, query_emb*keys_emb_sum])\n",
    "    #deep_input_emb=tf.keras.layers.Concatenate()([deep_input_emb, hist])\n",
    "    print(deep_input_emb)\n",
    "    #deep_input_emb=tf.keras.layers.Flatten()(deep_input_emb)\n",
    "    print(deep_input_emb)\n",
    "    dnn_hidden_units=(256,128,64)\n",
    "    dnn_activation=\"dice\"\n",
    "    l2_reg_dnn=0\n",
    "    dnn_dropout=0\n",
    "    seed=1024\n",
    "    dnn_use_bn=False\n",
    "    \n",
    "    output = DNN(dnn_hidden_units, dnn_activation, l2_reg_dnn, dnn_dropout, dnn_use_bn, seed=seed)(deep_input_emb)\n",
    "    output = tf.keras.layers.Dense(1, use_bias=False,kernel_initializer=tf.keras.initializers.glorot_normal(seed))(output)\n",
    "    output = tf.sigmoid(output)\n",
    "    output = tf.reshape(output, (-1, 1))\n",
    "    print(output)\n",
    "    print(inputs_list)\n",
    "    model = tf.keras.models.Model(inputs=inputs_list, outputs=output)\n",
    "    model.compile('adam', 'binary_crossentropy', metrics=['binary_crossentropy'])\n",
    "    return model"
   ]
  },
  {
   "cell_type": "code",
   "execution_count": 8,
   "metadata": {},
   "outputs": [
    {
     "name": "stdout",
     "output_type": "stream",
     "text": [
      "--------------\n",
      "0\n",
      "查看query和key的大小\n",
      "Tensor(\"concatenate_6/Identity:0\", shape=(None, 1, 32), dtype=float32)\n",
      "Tensor(\"concatenate_4/Identity:0\", shape=(None, 10, 32), dtype=float32)\n",
      "查看attention dnn的输入向量大小\n",
      "Tensor(\"attention_sequence_pooling_layer_1/concat_1:0\", shape=(None, 10, 128), dtype=float32)\n",
      "查看attention dnn的输出向量大小\n",
      "Tensor(\"attention_sequence_pooling_layer_1/dnn_1/Identity:0\", shape=(None, 10, 1), dtype=float32)\n",
      "查看序列的每个元素的权重大小\n",
      "Tensor(\"attention_sequence_pooling_layer_1/SelectV2:0\", shape=(None, 1, 10), dtype=float32)\n",
      "查看序列的大小\n",
      "Tensor(\"concatenate_4/Identity:0\", shape=(None, 10, 32), dtype=float32)\n",
      "查看权重*序列后的大小\n",
      "Tensor(\"attention_sequence_pooling_layer_1/MatMul:0\", shape=(None, 1, 32), dtype=float32)\n",
      "hist-------------\n",
      "Tensor(\"concatenate_6/Identity:0\", shape=(None, 1, 32), dtype=float32)\n",
      "Tensor(\"concatenate_4/Identity:0\", shape=(None, 10, 32), dtype=float32)\n",
      "Tensor(\"concatenate_5/Identity:0\", shape=(None, 1, 80), dtype=float32)\n",
      "Tensor(\"concatenate_5/Identity:0\", shape=(None, 1, 80), dtype=float32)\n",
      "Tensor(\"Reshape_1:0\", shape=(None, 1), dtype=float32)\n",
      "[<tf.Tensor 'user_7:0' shape=(None, 1) dtype=float32>, <tf.Tensor 'item_id_7:0' shape=(None, 1) dtype=float32>, <tf.Tensor 'cate_id_7:0' shape=(None, 1) dtype=float32>, <tf.Tensor 'hist_item_id_7:0' shape=(None, 10) dtype=float32>, <tf.Tensor 'seq_length_15:0' shape=(None, 1) dtype=float32>, <tf.Tensor 'hist_cate_id_7:0' shape=(None, 10) dtype=float32>]\n"
     ]
    },
    {
     "name": "stderr",
     "output_type": "stream",
     "text": [
      "/anaconda3/lib/python3.6/site-packages/tensorflow/python/framework/indexed_slices.py:434: UserWarning: Converting sparse IndexedSlices to a dense Tensor of unknown shape. This may consume a large amount of memory.\n",
      "  \"Converting sparse IndexedSlices to a dense Tensor of unknown shape. \"\n"
     ]
    },
    {
     "name": "stdout",
     "output_type": "stream",
     "text": [
      "1172/1172 [==============================] - 142s 121ms/step - loss: 0.6473 - binary_crossentropy: 0.6454\n",
      "0.7063235859083515\n"
     ]
    }
   ],
   "source": [
    "for i in range(1):\n",
    "    print(\"--------------\")\n",
    "    print(i)\n",
    "    '''\n",
    "    for j in range(1,4):\n",
    "    '''\n",
    "    #print(j)\n",
    "    model=build_din_model()\n",
    "    history = model.fit(x_train, y_train,  batch_size=256,verbose=1, epochs=1)\n",
    "    #history = model.fit(x_train, y_train,  batch_size=128,verbose=1, epochs=1)\n",
    "    y_pred=model.predict(x_test)\n",
    "    print(roc_auc_score(y_test,y_pred))"
   ]
  },
  {
   "cell_type": "code",
   "execution_count": null,
   "metadata": {},
   "outputs": [],
   "source": []
  }
 ],
 "metadata": {
  "kernelspec": {
   "display_name": "Python 3",
   "language": "python",
   "name": "python3"
  },
  "language_info": {
   "codemirror_mode": {
    "name": "ipython",
    "version": 3
   },
   "file_extension": ".py",
   "mimetype": "text/x-python",
   "name": "python",
   "nbconvert_exporter": "python",
   "pygments_lexer": "ipython3",
   "version": "3.6.10"
  }
 },
 "nbformat": 4,
 "nbformat_minor": 4
}
